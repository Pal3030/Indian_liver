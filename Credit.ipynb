{
  "nbformat": 4,
  "nbformat_minor": 0,
  "metadata": {
    "colab": {
      "provenance": [],
      "mount_file_id": "1kH-Ngtb6WDDYK9NsuL1sV_cgD3NvJJhm",
      "authorship_tag": "ABX9TyMTO+RVkv3cB/nQr0K29i33",
      "include_colab_link": true
    },
    "kernelspec": {
      "name": "python3",
      "display_name": "Python 3"
    },
    "language_info": {
      "name": "python"
    }
  },
  "cells": [
    {
      "cell_type": "markdown",
      "metadata": {
        "id": "view-in-github",
        "colab_type": "text"
      },
      "source": [
        "<a href=\"https://colab.research.google.com/github/Pal3030/Indian_liver/blob/main/Credit.ipynb\" target=\"_parent\"><img src=\"https://colab.research.google.com/assets/colab-badge.svg\" alt=\"Open In Colab\"/></a>"
      ]
    },
    {
      "cell_type": "code",
      "source": [
        "\n",
        "import numpy as np # linear algebra\n",
        "import pandas as pd # data processing, CSV file I/O (e.g. pd.read_csv)\n",
        "\n",
        "import os\n",
        "for dirname, _, filenames in os.walk('/kaggle/input'):\n",
        "    for filename in filenames:\n",
        "        print(os.path.join(dirname, filename))"
      ],
      "metadata": {
        "id": "KDOHEIaYodly"
      },
      "execution_count": null,
      "outputs": []
    },
    {
      "cell_type": "code",
      "source": [
        "import seaborn as sns\n",
        "import matplotlib.pyplot as plt\n",
        "import sklearn\n",
        "\n",
        "%matplotlib inline\n",
        "\n",
        "sns.set()"
      ],
      "metadata": {
        "id": "L6-WKy1rodiw"
      },
      "execution_count": null,
      "outputs": []
    },
    {
      "cell_type": "code",
      "source": [
        "import pandas as pd\n",
        "from statsmodels.formula.api import ols\n",
        "from statsmodels.stats.anova import anova_lm\n",
        "import matplotlib.pyplot as plt\n",
        "import numpy as np"
      ],
      "metadata": {
        "id": "-UwwR8iOodby"
      },
      "execution_count": null,
      "outputs": []
    },
    {
      "cell_type": "code",
      "source": [
        "data = pd.read_csv('/content/drive/MyDrive/indian_liver_patient.csv')"
      ],
      "metadata": {
        "id": "G6STrUWXodXJ"
      },
      "execution_count": null,
      "outputs": []
    },
    {
      "cell_type": "code",
      "source": [
        "data.head()"
      ],
      "metadata": {
        "id": "n9k3eHMeodUT"
      },
      "execution_count": null,
      "outputs": []
    },
    {
      "cell_type": "code",
      "source": [
        "data .info()"
      ],
      "metadata": {
        "id": "aOsQn_U1odRL"
      },
      "execution_count": null,
      "outputs": []
    },
    {
      "cell_type": "code",
      "source": [
        "df_details = pd.DataFrame()"
      ],
      "metadata": {
        "id": "FRTyZB2_odN2"
      },
      "execution_count": null,
      "outputs": []
    },
    {
      "cell_type": "code",
      "source": [
        "data['Gender'].value_counts()"
      ],
      "metadata": {
        "id": "36ZlneI5odK3"
      },
      "execution_count": null,
      "outputs": []
    },
    {
      "cell_type": "code",
      "source": [
        "data.describe().T"
      ],
      "metadata": {
        "id": "kKmtEpCxodHv"
      },
      "execution_count": null,
      "outputs": []
    },
    {
      "cell_type": "code",
      "source": [
        "data['Albumin'].value_counts()"
      ],
      "metadata": {
        "id": "o-5BO2VJodET"
      },
      "execution_count": null,
      "outputs": []
    },
    {
      "cell_type": "code",
      "source": [
        "data['Albumin'] = data['Albumin'].apply(lambda x: 0 if x == 2 else x)"
      ],
      "metadata": {
        "id": "24Igw_rkodBJ"
      },
      "execution_count": null,
      "outputs": []
    },
    {
      "cell_type": "code",
      "source": [
        "data.corr()['Alamine_Aminotransferase'].abs().sort_values(ascending = False)"
      ],
      "metadata": {
        "id": "7JuXfyzQoc90"
      },
      "execution_count": null,
      "outputs": []
    },
    {
      "cell_type": "code",
      "source": [
        "data.corr()['Direct_Bilirubin'].abs().sort_values(ascending = False)\n"
      ],
      "metadata": {
        "id": "tgesIX5Joc0Y"
      },
      "execution_count": null,
      "outputs": []
    },
    {
      "cell_type": "code",
      "source": [
        "x=data.drop('Total_Protiens',axis=1)\n",
        "y=data['Total_Protiens']"
      ],
      "metadata": {
        "id": "et238P5MuJMg"
      },
      "execution_count": null,
      "outputs": []
    },
    {
      "cell_type": "code",
      "source": [
        "from imblearn.over_sampling import RandomOverSampler\n",
        "\n",
        "ros=RandomOverSampler(random_state=30)"
      ],
      "metadata": {
        "id": "iKYUeEJXuZzr"
      },
      "execution_count": null,
      "outputs": []
    },
    {
      "cell_type": "code",
      "source": [
        "from sklearn.preprocessing import StandardScaler\n",
        "\n",
        "scaler=StandardScaler()"
      ],
      "metadata": {
        "id": "_cEndSGnuim6"
      },
      "execution_count": null,
      "outputs": []
    },
    {
      "cell_type": "code",
      "source": [
        "# split the data into training and testing\n",
        "from sklearn.model_selection import train_test_split\n",
        "from sklearn.linear_model import LogisticRegression\n",
        "from sklearn.metrics import accuracy_score"
      ],
      "metadata": {
        "id": "Y9KzzBMl4ri0"
      },
      "execution_count": null,
      "outputs": []
    },
    {
      "cell_type": "code",
      "source": [
        "corr_matrix = data.corr()\n",
        "fig, ax = plt.subplots(figsize=(9,9))\n",
        "sns.heatmap(corr_matrix,annot=True,linewidths=.5, ax=ax)"
      ],
      "metadata": {
        "id": "C4uWHREZ3mKY"
      },
      "execution_count": null,
      "outputs": []
    },
    {
      "cell_type": "code",
      "source": [
        "from sklearn.model_selection import cross_val_score\n",
        "\n",
        "def cross_vallidation(X, y, model_clf):\n",
        "    model_clf_score = cross_val_score(model_clf, X, y, cv=10, n_jobs=-1)\n",
        "    return model_clf_score.mean()\n"
      ],
      "metadata": {
        "id": "RVBPGAHi3mId"
      },
      "execution_count": null,
      "outputs": []
    },
    {
      "cell_type": "code",
      "source": [
        "data.rename(columns={'Dataset':'Is_ill'}, inplace=True)"
      ],
      "metadata": {
        "id": "-b7cfiIRocqm"
      },
      "execution_count": null,
      "outputs": []
    },
    {
      "cell_type": "code",
      "source": [
        "print ('Ill : {} '.format(data.Is_ill.value_counts()[1]))\n",
        "print ('Healthy : {} '.format(data.Is_ill.value_counts()[2]))"
      ],
      "metadata": {
        "id": "__U-OjBCocnc"
      },
      "execution_count": null,
      "outputs": []
    },
    {
      "cell_type": "code",
      "source": [
        "plt.pie(x=data[\"Is_ill\"].value_counts(),\n",
        "        labels=[\"Ill\",\"Healthy\"],\n",
        "        shadow = True,\n",
        "        explode = (0, 0.1)\n",
        "        )\n",
        "\n",
        "plt.show()"
      ],
      "metadata": {
        "id": "gSE88c9zoclS"
      },
      "execution_count": null,
      "outputs": []
    },
    {
      "cell_type": "code",
      "source": [
        "plt.pie(x=data[\"Gender\"].value_counts(),\n",
        "        labels=[\"Male\",\"Female\"],\n",
        "        shadow = True,\n",
        "        explode = (0, 0.1)\n",
        "        )\n",
        "\n",
        "plt.show()\n"
      ],
      "metadata": {
        "id": "bBz85afqsplz"
      },
      "execution_count": null,
      "outputs": []
    },
    {
      "cell_type": "code",
      "source": [
        "sns.histplot(x=data[\"Age\"], kde=True)"
      ],
      "metadata": {
        "id": "mF3qkAiBsph1"
      },
      "execution_count": null,
      "outputs": []
    }
  ]
}